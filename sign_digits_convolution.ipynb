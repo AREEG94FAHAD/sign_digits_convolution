{
 "cells": [
  {
   "cell_type": "markdown",
   "id": "7a68c1f4",
   "metadata": {},
   "source": [
    "# Sign Digits Convolution\n",
    "a deep learning convolutional neural network to distinguish between six digs based on function API. TensorFlow and the Keras Framework are used in this project to implement forward and backward propagation.\n",
    "\n",
    "> In sequential model you can only stack one layer after another, while in functional model you can connect a layer to literally any other layer\n",
    "\n",
    "<img src=\"images/seq_vs_func.png\" style=\"width:350px;height:200px;\">\n",
    "\n",
    "## 1. Required framworks\n",
    "To implement the project, multiple packages need to be installed.\n",
    "- numpy\n",
    "- h5py\n",
    "- matplotlib\n",
    "- scipy\n",
    "- PIL\n",
    "- pandas\n",
    "- tensorflow"
   ]
  },
  {
   "cell_type": "code",
   "execution_count": 4,
   "id": "46b3f8c2",
   "metadata": {},
   "outputs": [],
   "source": [
    "import math\n",
    "import random\n",
    "import numpy as np\n",
    "import h5py\n",
    "import matplotlib.pyplot as plt\n",
    "from matplotlib.pyplot import imread\n",
    "import scipy\n",
    "from PIL import Image\n",
    "import pandas as pd\n",
    "import tensorflow as tf\n",
    "import tensorflow.keras.layers as tfl\n",
    "from tensorflow.python.framework import ops\n",
    "\n",
    "\n",
    "%matplotlib inline\n",
    "np.random.seed(1)"
   ]
  },
  {
   "cell_type": "markdown",
   "id": "d032dade",
   "metadata": {},
   "source": [
    "## 2. dataset spliting \n",
    "Load the dataset from h5py and split the dataset into training and test sets."
   ]
  },
  {
   "cell_type": "code",
   "execution_count": 5,
   "id": "e6b501ba",
   "metadata": {},
   "outputs": [],
   "source": [
    "def load_signs_dataset():\n",
    "    train_dataset = h5py.File('datasets/train_signs.h5', \"r\")\n",
    "    train_set_x_orig = np.array(train_dataset[\"train_set_x\"][:]) # your train set features\n",
    "    train_set_y_orig = np.array(train_dataset[\"train_set_y\"][:]) # your train set labels\n",
    "\n",
    "    test_dataset = h5py.File('datasets/test_signs.h5', \"r\")\n",
    "    test_set_x_orig = np.array(test_dataset[\"test_set_x\"][:]) # your test set features\n",
    "    test_set_y_orig = np.array(test_dataset[\"test_set_y\"][:]) # your test set labels\n",
    "\n",
    "    classes = np.array(test_dataset[\"list_classes\"][:]) # the list of classes\n",
    "    \n",
    "    train_set_y_orig = train_set_y_orig.reshape((1, train_set_y_orig.shape[0]))\n",
    "    test_set_y_orig = test_set_y_orig.reshape((1, test_set_y_orig.shape[0]))\n",
    "    \n",
    "    return train_set_x_orig, train_set_y_orig, test_set_x_orig, test_set_y_orig, classes"
   ]
  },
  {
   "cell_type": "markdown",
   "id": "4cf1f138",
   "metadata": {},
   "source": [
    "The Y is an array consisting of one row and 1080 columns. Each column value ranges from 0 to 5, representing the image digit; however, this type of data cannot be used directly in our model. To do it correctly, first use **np.reshape(-1)** to convert the Y form (1,1080) to (1080,1), then use **np.eye(number of classes)** to convert each value into an array of length 6. For example, if the original value is 3, the new value should be [0,0,0,1,0,0], and this is only accepted for the softmax activation function."
   ]
  },
  {
   "cell_type": "code",
   "execution_count": 70,
   "id": "3b4d95ab",
   "metadata": {},
   "outputs": [],
   "source": [
    "def convert_to_one_hot(Y, C):\n",
    "    Y = np.eye(C)[Y.reshape(-1)]\n",
    "    \n",
    "    return Y"
   ]
  },
  {
   "cell_type": "code",
   "execution_count": 71,
   "id": "01a60320",
   "metadata": {},
   "outputs": [
    {
     "data": {
      "text/plain": [
       "(1080, 6)"
      ]
     },
     "execution_count": 71,
     "metadata": {},
     "output_type": "execute_result"
    }
   ],
   "source": [
    "convert_to_one_hot(Y_train_orig,6).shape"
   ]
  },
  {
   "cell_type": "code",
   "execution_count": 72,
   "id": "7e1a7694",
   "metadata": {},
   "outputs": [
    {
     "name": "stdout",
     "output_type": "stream",
     "text": [
      "number of training examples = 1080\n",
      "number of test examples = 120\n",
      "X_train shape: (1080, 64, 64, 3)\n",
      "Y_train shape: (1080, 6)\n",
      "X_test shape: (120, 64, 64, 3)\n",
      "Y_test shape: (120, 6)\n"
     ]
    }
   ],
   "source": [
    "X_train_orig, Y_train_orig, X_test_orig, Y_test_orig, classes = load_signs_dataset()\n",
    "\n",
    "# Normalize image vectors\n",
    "X_train = X_train_orig/255.\n",
    "X_test = X_test_orig/255.\n",
    "Y_train = convert_to_one_hot(Y_train_orig, 6)\n",
    "Y_test = convert_to_one_hot(Y_test_orig, 6)\n",
    "print (\"number of training examples = \" + str(X_train.shape[0]))\n",
    "print (\"number of test examples = \" + str(X_test.shape[0]))\n",
    "print (\"X_train shape: \" + str(X_train.shape))\n",
    "print (\"Y_train shape: \" + str(Y_train.shape))\n",
    "print (\"X_test shape: \" + str(X_test.shape))\n",
    "print (\"Y_test shape: \" + str(Y_test.shape))"
   ]
  },
  {
   "cell_type": "markdown",
   "id": "e609994f",
   "metadata": {},
   "source": [
    "Display a random image from the dataset."
   ]
  },
  {
   "cell_type": "code",
   "execution_count": 100,
   "id": "b0f1155a",
   "metadata": {},
   "outputs": [
    {
     "data": {
      "image/png": "[encoded data removed]",
      "text/plain": [
       "<Figure size 640x480 with 1 Axes>"
      ]
     },
     "metadata": {},
     "output_type": "display_data"
    }
   ],
   "source": [
    "index = random.randint(0,X_train_orig.shape[0])\n",
    "\n",
    "plt.imshow(X_train_orig[index]) #display sample training image\n",
    "plt.show()"
   ]
  },
  {
   "cell_type": "markdown",
   "id": "fcdfdb16",
   "metadata": {},
   "source": [
    "## 3. Desgin the system model\n",
    "\n",
    "The system model contains multiple layers: first CONV2D, then RELU, MAXPOOL, CONV2D, RELU, MAXPOOL, FLATTEN, and the last layer is DENSE is a classic fully connected layer.The output layer uses softmax as an activation function. Because it consists of six different outputs\n",
    "\n",
    "**CONV2D -> RELU -> MAXPOOL -> CONV2D -> RELU -> MAXPOOL -> FLATTEN -> DENSE**"
   ]
  },
  {
   "cell_type": "code",
   "execution_count": 74,
   "id": "9f5cddbe",
   "metadata": {},
   "outputs": [],
   "source": [
    "def convolutional_model(input_shape):\n",
    "    \"\"\"\n",
    "    Implements the forward propagation for the model:\n",
    "    CONV2D -> RELU -> MAXPOOL -> CONV2D -> RELU -> MAXPOOL -> FLATTEN -> DENSE\n",
    "    \n",
    "    Note that for simplicity and grading purposes, you'll hard-code some values\n",
    "    such as the stride and kernel (filter) sizes. \n",
    "    Normally, functions should take these values as function parameters.\n",
    "    \n",
    "    Arguments:\n",
    "    input_img -- input dataset, of shape (input_shape)\n",
    "\n",
    "    Returns:\n",
    "    model -- TF Keras model (object containing the information for the entire training process) \n",
    "    \"\"\"\n",
    "\n",
    "    input_img = tf.keras.Input(shape=input_shape)\n",
    "    ## CONV2D: 8 filters 4x4, stride of 1, padding 'SAME'\n",
    "    # Z1 = None\n",
    "    ## RELU\n",
    "    # A1 = None\n",
    "    ## MAXPOOL: window 8x8, stride 8, padding 'SAME'\n",
    "    # P1 = None\n",
    "    ## CONV2D: 16 filters 2x2, stride 1, padding 'SAME'\n",
    "    # Z2 = None\n",
    "    ## RELU\n",
    "    # A2 = None\n",
    "    ## MAXPOOL: window 4x4, stride 4, padding 'SAME'\n",
    "    # P2 = None\n",
    "    ## FLATTEN\n",
    "    # F = None\n",
    "    ## Dense layer\n",
    "    ## 6 neurons in output layer. Hint: one of the arguments should be \"activation='softmax'\" \n",
    "    # outputs = None\n",
    "    # YOUR CODE STARTS HERE\n",
    "    Z1 = tf.keras.layers.Conv2D(filters = 8 , kernel_size= (4,4), strides = (1,1), padding='same')(input_img)\n",
    "    A1 = tf.keras.layers.ReLU()(Z1)\n",
    "    P1 = tf.keras.layers.MaxPool2D(pool_size=(8,8), strides=(8, 8), padding='same')(A1)\n",
    "    Z2 = tf.keras.layers.Conv2D(filters = 16 , kernel_size= (2,2), strides = (1,1), padding='same')(P1)\n",
    "    A2 = tf.keras.layers.ReLU()(Z2)\n",
    "    P2 = tf.keras.layers.MaxPool2D(pool_size=(4,4), strides=(4, 4), padding='same')(A2)\n",
    "    F = tf.keras.layers.Flatten()(P2)\n",
    "    outputs = tf.keras.layers.Dense(units=6, activation='softmax')(F)\n",
    "    \n",
    "    # YOUR CODE ENDS HERE\n",
    "    model = tf.keras.Model(inputs=input_img, outputs=outputs)\n",
    "    return model"
   ]
  },
  {
   "cell_type": "code",
   "execution_count": 75,
   "id": "5e854331",
   "metadata": {},
   "outputs": [],
   "source": [
    "conv_model = convolutional_model((64, 64, 3))"
   ]
  },
  {
   "cell_type": "markdown",
   "id": "b56b557c",
   "metadata": {},
   "source": [
    "### 3.1 Loss function (Error)\n",
    "\n",
    "There are many loss functions that can be used in Keras tensorflow. Because this project is binary classification, the proper method is binary cross entropy. Read more [loss function](https://www.tensorflow.org/api_docs/python/tf/keras/losses)\n",
    "\n",
    "### 3.2 Optimization methods for reducing overfitting\n",
    "\n",
    "As a loss function, TensorFlow contains many optimization methods for reducing overfitting, such as Adam, SGD, and RMSprop, etc. For more information, see this [link](https://www.tensorflow.org/api_docs/python/tf/keras/optimizers)\n",
    "\n",
    "### 3.3 Evaluate the system mode.\n",
    "\n",
    "Accuracy, recall, precision, and more are all metrics offered by the TensorFlow Framework to evaluate the system model.[See more](https://www.tensorflow.org/api_docs/python/tf/keras/metrics)"
   ]
  },
  {
   "cell_type": "code",
   "execution_count": 76,
   "id": "71a66c10",
   "metadata": {},
   "outputs": [],
   "source": [
    "conv_model.compile(optimizer='adam',\n",
    "                  loss='categorical_crossentropy',\n",
    "                  metrics=['accuracy'])"
   ]
  },
  {
   "cell_type": "code",
   "execution_count": 77,
   "id": "5732f1cc",
   "metadata": {},
   "outputs": [
    {
     "name": "stdout",
     "output_type": "stream",
     "text": [
      "Model: \"model_2\"\n",
      "_________________________________________________________________\n",
      " Layer (type)                Output Shape              Param #   \n",
      "=================================================================\n",
      " input_3 (InputLayer)        [(None, 64, 64, 3)]       0         \n",
      "                                                                 \n",
      " conv2d_4 (Conv2D)           (None, 64, 64, 8)         392       \n",
      "                                                                 \n",
      " re_lu_4 (ReLU)              (None, 64, 64, 8)         0         \n",
      "                                                                 \n",
      " max_pooling2d_4 (MaxPooling  (None, 8, 8, 8)          0         \n",
      " 2D)                                                             \n",
      "                                                                 \n",
      " conv2d_5 (Conv2D)           (None, 8, 8, 16)          528       \n",
      "                                                                 \n",
      " re_lu_5 (ReLU)              (None, 8, 8, 16)          0         \n",
      "                                                                 \n",
      " max_pooling2d_5 (MaxPooling  (None, 2, 2, 16)         0         \n",
      " 2D)                                                             \n",
      "                                                                 \n",
      " flatten_2 (Flatten)         (None, 64)                0         \n",
      "                                                                 \n",
      " dense_2 (Dense)             (None, 6)                 390       \n",
      "                                                                 \n",
      "=================================================================\n",
      "Total params: 1,310\n",
      "Trainable params: 1,310\n",
      "Non-trainable params: 0\n",
      "_________________________________________________________________\n"
     ]
    }
   ],
   "source": [
    "conv_model.summary()"
   ]
  },
  {
   "cell_type": "code",
   "execution_count": 103,
   "id": "619e47ee",
   "metadata": {},
   "outputs": [
    {
     "name": "stdout",
     "output_type": "stream",
     "text": [
      "You must install pydot (`pip install pydot`) and install graphviz (see instructions at https://graphviz.gitlab.io/download/) for plot_model to work.\n"
     ]
    }
   ],
   "source": [
    "tf.keras.utils.plot_model(conv_model, \"my_first_model_with_shape_info.png\", show_shapes=True)"
   ]
  },
  {
   "cell_type": "code",
   "execution_count": 79,
   "id": "c51b6720",
   "metadata": {},
   "outputs": [
    {
     "name": "stdout",
     "output_type": "stream",
     "text": [
      "Epoch 1/100\n",
      "17/17 [==============================] - 1s 64ms/step - loss: 1.7325 - accuracy: 0.4083 - val_loss: 1.7224 - val_accuracy: 0.4583\n",
      "Epoch 2/100\n",
      "17/17 [==============================] - 1s 68ms/step - loss: 1.7163 - accuracy: 0.4213 - val_loss: 1.7051 - val_accuracy: 0.4833\n",
      "Epoch 3/100\n",
      "17/17 [==============================] - 1s 70ms/step - loss: 1.6966 - accuracy: 0.4565 - val_loss: 1.6861 - val_accuracy: 0.4583\n",
      "Epoch 4/100\n",
      "17/17 [==============================] - 1s 64ms/step - loss: 1.6729 - accuracy: 0.4741 - val_loss: 1.6603 - val_accuracy: 0.4667\n",
      "Epoch 5/100\n",
      "17/17 [==============================] - 1s 67ms/step - loss: 1.6454 - accuracy: 0.4806 - val_loss: 1.6352 - val_accuracy: 0.4500\n",
      "Epoch 6/100\n",
      "17/17 [==============================] - 1s 60ms/step - loss: 1.6151 - accuracy: 0.4806 - val_loss: 1.6036 - val_accuracy: 0.4000\n",
      "Epoch 7/100\n",
      "17/17 [==============================] - 1s 57ms/step - loss: 1.5824 - accuracy: 0.4750 - val_loss: 1.5702 - val_accuracy: 0.4250\n",
      "Epoch 8/100\n",
      "17/17 [==============================] - 1s 58ms/step - loss: 1.5465 - accuracy: 0.4731 - val_loss: 1.5344 - val_accuracy: 0.4083\n",
      "Epoch 9/100\n",
      "17/17 [==============================] - 1s 69ms/step - loss: 1.5056 - accuracy: 0.4898 - val_loss: 1.4954 - val_accuracy: 0.4000\n",
      "Epoch 10/100\n",
      "17/17 [==============================] - 1s 68ms/step - loss: 1.4596 - accuracy: 0.4944 - val_loss: 1.4523 - val_accuracy: 0.4000\n",
      "Epoch 11/100\n",
      "17/17 [==============================] - 1s 62ms/step - loss: 1.4107 - accuracy: 0.5130 - val_loss: 1.4064 - val_accuracy: 0.4667\n",
      "Epoch 12/100\n",
      "17/17 [==============================] - 1s 58ms/step - loss: 1.3623 - accuracy: 0.5435 - val_loss: 1.3658 - val_accuracy: 0.4833\n",
      "Epoch 13/100\n",
      "17/17 [==============================] - 1s 60ms/step - loss: 1.3180 - accuracy: 0.5657 - val_loss: 1.3235 - val_accuracy: 0.5083\n",
      "Epoch 14/100\n",
      "17/17 [==============================] - 1s 68ms/step - loss: 1.2735 - accuracy: 0.5750 - val_loss: 1.2881 - val_accuracy: 0.5250\n",
      "Epoch 15/100\n",
      "17/17 [==============================] - 1s 68ms/step - loss: 1.2333 - accuracy: 0.5861 - val_loss: 1.2521 - val_accuracy: 0.5417\n",
      "Epoch 16/100\n",
      "17/17 [==============================] - 1s 66ms/step - loss: 1.1967 - accuracy: 0.5935 - val_loss: 1.2240 - val_accuracy: 0.5417\n",
      "Epoch 17/100\n",
      "17/17 [==============================] - 1s 67ms/step - loss: 1.1668 - accuracy: 0.6028 - val_loss: 1.1868 - val_accuracy: 0.5417\n",
      "Epoch 18/100\n",
      "17/17 [==============================] - 1s 63ms/step - loss: 1.1313 - accuracy: 0.6139 - val_loss: 1.1575 - val_accuracy: 0.5667\n",
      "Epoch 19/100\n",
      "17/17 [==============================] - 1s 57ms/step - loss: 1.0993 - accuracy: 0.6157 - val_loss: 1.1310 - val_accuracy: 0.5750\n",
      "Epoch 20/100\n",
      "17/17 [==============================] - 1s 63ms/step - loss: 1.0695 - accuracy: 0.6361 - val_loss: 1.1070 - val_accuracy: 0.5917\n",
      "Epoch 21/100\n",
      "17/17 [==============================] - 1s 63ms/step - loss: 1.0436 - accuracy: 0.6463 - val_loss: 1.0820 - val_accuracy: 0.5917\n",
      "Epoch 22/100\n",
      "17/17 [==============================] - 1s 61ms/step - loss: 1.0177 - accuracy: 0.6491 - val_loss: 1.0651 - val_accuracy: 0.6000\n",
      "Epoch 23/100\n",
      "17/17 [==============================] - 1s 59ms/step - loss: 0.9965 - accuracy: 0.6528 - val_loss: 1.0463 - val_accuracy: 0.5750\n",
      "Epoch 24/100\n",
      "17/17 [==============================] - 1s 59ms/step - loss: 0.9759 - accuracy: 0.6667 - val_loss: 1.0279 - val_accuracy: 0.5583\n",
      "Epoch 25/100\n",
      "17/17 [==============================] - 2s 97ms/step - loss: 0.9552 - accuracy: 0.6704 - val_loss: 1.0127 - val_accuracy: 0.5750\n",
      "Epoch 26/100\n",
      "17/17 [==============================] - 6s 382ms/step - loss: 0.9364 - accuracy: 0.6787 - val_loss: 0.9962 - val_accuracy: 0.5917\n",
      "Epoch 27/100\n",
      "17/17 [==============================] - 5s 285ms/step - loss: 0.9181 - accuracy: 0.6898 - val_loss: 0.9844 - val_accuracy: 0.6083\n",
      "Epoch 28/100\n",
      "17/17 [==============================] - 3s 187ms/step - loss: 0.9031 - accuracy: 0.7009 - val_loss: 0.9692 - val_accuracy: 0.6000\n",
      "Epoch 29/100\n",
      "17/17 [==============================] - 2s 147ms/step - loss: 0.8850 - accuracy: 0.7074 - val_loss: 0.9574 - val_accuracy: 0.6000\n",
      "Epoch 30/100\n",
      "17/17 [==============================] - 3s 154ms/step - loss: 0.8700 - accuracy: 0.7111 - val_loss: 0.9463 - val_accuracy: 0.6083\n",
      "Epoch 31/100\n",
      "17/17 [==============================] - 2s 104ms/step - loss: 0.8553 - accuracy: 0.7157 - val_loss: 0.9349 - val_accuracy: 0.6417\n",
      "Epoch 32/100\n",
      "17/17 [==============================] - 2s 103ms/step - loss: 0.8411 - accuracy: 0.7204 - val_loss: 0.9260 - val_accuracy: 0.6417\n",
      "Epoch 33/100\n",
      "17/17 [==============================] - 2s 100ms/step - loss: 0.8283 - accuracy: 0.7231 - val_loss: 0.9155 - val_accuracy: 0.6583\n",
      "Epoch 34/100\n",
      "17/17 [==============================] - 2s 122ms/step - loss: 0.8160 - accuracy: 0.7259 - val_loss: 0.9063 - val_accuracy: 0.6583\n",
      "Epoch 35/100\n",
      "17/17 [==============================] - 2s 120ms/step - loss: 0.8038 - accuracy: 0.7296 - val_loss: 0.8973 - val_accuracy: 0.6500\n",
      "Epoch 36/100\n",
      "17/17 [==============================] - 2s 110ms/step - loss: 0.7924 - accuracy: 0.7352 - val_loss: 0.8895 - val_accuracy: 0.6667\n",
      "Epoch 37/100\n",
      "17/17 [==============================] - 2s 112ms/step - loss: 0.7821 - accuracy: 0.7370 - val_loss: 0.8817 - val_accuracy: 0.6750\n",
      "Epoch 38/100\n",
      "17/17 [==============================] - 2s 98ms/step - loss: 0.7718 - accuracy: 0.7389 - val_loss: 0.8744 - val_accuracy: 0.6833\n",
      "Epoch 39/100\n",
      "17/17 [==============================] - 1s 83ms/step - loss: 0.7621 - accuracy: 0.7389 - val_loss: 0.8667 - val_accuracy: 0.6833\n",
      "Epoch 40/100\n",
      "17/17 [==============================] - 2s 100ms/step - loss: 0.7526 - accuracy: 0.7426 - val_loss: 0.8585 - val_accuracy: 0.6833\n",
      "Epoch 41/100\n",
      "17/17 [==============================] - 2s 98ms/step - loss: 0.7440 - accuracy: 0.7454 - val_loss: 0.8503 - val_accuracy: 0.6750\n",
      "Epoch 42/100\n",
      "17/17 [==============================] - 1s 81ms/step - loss: 0.7356 - accuracy: 0.7472 - val_loss: 0.8449 - val_accuracy: 0.6750\n",
      "Epoch 43/100\n",
      "17/17 [==============================] - 1s 70ms/step - loss: 0.7276 - accuracy: 0.7481 - val_loss: 0.8373 - val_accuracy: 0.6750\n",
      "Epoch 44/100\n",
      "17/17 [==============================] - 1s 85ms/step - loss: 0.7194 - accuracy: 0.7500 - val_loss: 0.8309 - val_accuracy: 0.6917\n",
      "Epoch 45/100\n",
      "17/17 [==============================] - 1s 82ms/step - loss: 0.7122 - accuracy: 0.7537 - val_loss: 0.8246 - val_accuracy: 0.6917\n",
      "Epoch 46/100\n",
      "17/17 [==============================] - 1s 79ms/step - loss: 0.7046 - accuracy: 0.7546 - val_loss: 0.8181 - val_accuracy: 0.7000\n",
      "Epoch 47/100\n",
      "17/17 [==============================] - 1s 69ms/step - loss: 0.6976 - accuracy: 0.7565 - val_loss: 0.8112 - val_accuracy: 0.7000\n",
      "Epoch 48/100\n",
      "17/17 [==============================] - 1s 80ms/step - loss: 0.6907 - accuracy: 0.7583 - val_loss: 0.8049 - val_accuracy: 0.7167\n",
      "Epoch 49/100\n",
      "17/17 [==============================] - 1s 81ms/step - loss: 0.6843 - accuracy: 0.7583 - val_loss: 0.7982 - val_accuracy: 0.7083\n",
      "Epoch 50/100\n",
      "17/17 [==============================] - 1s 88ms/step - loss: 0.6778 - accuracy: 0.7639 - val_loss: 0.7924 - val_accuracy: 0.7167\n",
      "Epoch 51/100\n",
      "17/17 [==============================] - 1s 78ms/step - loss: 0.6716 - accuracy: 0.7685 - val_loss: 0.7861 - val_accuracy: 0.7083\n",
      "Epoch 52/100\n",
      "17/17 [==============================] - 1s 69ms/step - loss: 0.6654 - accuracy: 0.7694 - val_loss: 0.7813 - val_accuracy: 0.7250\n",
      "Epoch 53/100\n",
      "17/17 [==============================] - 1s 74ms/step - loss: 0.6599 - accuracy: 0.7694 - val_loss: 0.7755 - val_accuracy: 0.7083\n",
      "Epoch 54/100\n",
      "17/17 [==============================] - 1s 78ms/step - loss: 0.6540 - accuracy: 0.7713 - val_loss: 0.7703 - val_accuracy: 0.7167\n",
      "Epoch 55/100\n",
      "17/17 [==============================] - 1s 77ms/step - loss: 0.6487 - accuracy: 0.7704 - val_loss: 0.7646 - val_accuracy: 0.7250\n",
      "Epoch 56/100\n",
      "17/17 [==============================] - 1s 68ms/step - loss: 0.6428 - accuracy: 0.7731 - val_loss: 0.7603 - val_accuracy: 0.7167\n",
      "Epoch 57/100\n",
      "17/17 [==============================] - 1s 71ms/step - loss: 0.6374 - accuracy: 0.7750 - val_loss: 0.7545 - val_accuracy: 0.7250\n",
      "Epoch 58/100\n"
     ]
    },
    {
     "name": "stdout",
     "output_type": "stream",
     "text": [
      "17/17 [==============================] - 1s 78ms/step - loss: 0.6320 - accuracy: 0.7759 - val_loss: 0.7498 - val_accuracy: 0.7250\n",
      "Epoch 59/100\n",
      "17/17 [==============================] - 1s 74ms/step - loss: 0.6271 - accuracy: 0.7787 - val_loss: 0.7457 - val_accuracy: 0.7250\n",
      "Epoch 60/100\n",
      "17/17 [==============================] - 1s 64ms/step - loss: 0.6223 - accuracy: 0.7796 - val_loss: 0.7408 - val_accuracy: 0.7333\n",
      "Epoch 61/100\n",
      "17/17 [==============================] - 1s 66ms/step - loss: 0.6172 - accuracy: 0.7843 - val_loss: 0.7364 - val_accuracy: 0.7333\n",
      "Epoch 62/100\n",
      "17/17 [==============================] - 1s 64ms/step - loss: 0.6124 - accuracy: 0.7861 - val_loss: 0.7317 - val_accuracy: 0.7250\n",
      "Epoch 63/100\n",
      "17/17 [==============================] - 1s 65ms/step - loss: 0.6079 - accuracy: 0.7861 - val_loss: 0.7271 - val_accuracy: 0.7250\n",
      "Epoch 64/100\n",
      "17/17 [==============================] - 1s 64ms/step - loss: 0.6031 - accuracy: 0.7870 - val_loss: 0.7231 - val_accuracy: 0.7250\n",
      "Epoch 65/100\n",
      "17/17 [==============================] - 1s 70ms/step - loss: 0.5988 - accuracy: 0.7898 - val_loss: 0.7194 - val_accuracy: 0.7333\n",
      "Epoch 66/100\n",
      "17/17 [==============================] - 1s 66ms/step - loss: 0.5945 - accuracy: 0.7926 - val_loss: 0.7152 - val_accuracy: 0.7333\n",
      "Epoch 67/100\n",
      "17/17 [==============================] - 1s 65ms/step - loss: 0.5901 - accuracy: 0.7954 - val_loss: 0.7116 - val_accuracy: 0.7333\n",
      "Epoch 68/100\n",
      "17/17 [==============================] - 1s 72ms/step - loss: 0.5857 - accuracy: 0.7963 - val_loss: 0.7072 - val_accuracy: 0.7333\n",
      "Epoch 69/100\n",
      "17/17 [==============================] - 1s 62ms/step - loss: 0.5814 - accuracy: 0.8009 - val_loss: 0.7040 - val_accuracy: 0.7333\n",
      "Epoch 70/100\n",
      "17/17 [==============================] - 1s 64ms/step - loss: 0.5776 - accuracy: 0.8009 - val_loss: 0.7004 - val_accuracy: 0.7333\n",
      "Epoch 71/100\n",
      "17/17 [==============================] - 1s 64ms/step - loss: 0.5731 - accuracy: 0.8056 - val_loss: 0.6966 - val_accuracy: 0.7417\n",
      "Epoch 72/100\n",
      "17/17 [==============================] - 1s 66ms/step - loss: 0.5688 - accuracy: 0.8065 - val_loss: 0.6928 - val_accuracy: 0.7417\n",
      "Epoch 73/100\n",
      "17/17 [==============================] - 1s 62ms/step - loss: 0.5646 - accuracy: 0.8083 - val_loss: 0.6889 - val_accuracy: 0.7417\n",
      "Epoch 74/100\n",
      "17/17 [==============================] - 1s 61ms/step - loss: 0.5602 - accuracy: 0.8083 - val_loss: 0.6848 - val_accuracy: 0.7417\n",
      "Epoch 75/100\n",
      "17/17 [==============================] - 1s 70ms/step - loss: 0.5561 - accuracy: 0.8111 - val_loss: 0.6813 - val_accuracy: 0.7417\n",
      "Epoch 76/100\n",
      "17/17 [==============================] - 1s 65ms/step - loss: 0.5521 - accuracy: 0.8111 - val_loss: 0.6780 - val_accuracy: 0.7417\n",
      "Epoch 77/100\n",
      "17/17 [==============================] - 1s 70ms/step - loss: 0.5476 - accuracy: 0.8093 - val_loss: 0.6730 - val_accuracy: 0.7500\n",
      "Epoch 78/100\n",
      "17/17 [==============================] - 1s 63ms/step - loss: 0.5428 - accuracy: 0.8130 - val_loss: 0.6679 - val_accuracy: 0.7500\n",
      "Epoch 79/100\n",
      "17/17 [==============================] - 1s 74ms/step - loss: 0.5377 - accuracy: 0.8139 - val_loss: 0.6628 - val_accuracy: 0.7500\n",
      "Epoch 80/100\n",
      "17/17 [==============================] - 1s 86ms/step - loss: 0.5334 - accuracy: 0.8176 - val_loss: 0.6594 - val_accuracy: 0.7500\n",
      "Epoch 81/100\n",
      "17/17 [==============================] - 1s 80ms/step - loss: 0.5289 - accuracy: 0.8194 - val_loss: 0.6559 - val_accuracy: 0.7500\n",
      "Epoch 82/100\n",
      "17/17 [==============================] - 1s 75ms/step - loss: 0.5244 - accuracy: 0.8241 - val_loss: 0.6515 - val_accuracy: 0.7500\n",
      "Epoch 83/100\n",
      "17/17 [==============================] - 1s 78ms/step - loss: 0.5200 - accuracy: 0.8269 - val_loss: 0.6477 - val_accuracy: 0.7500\n",
      "Epoch 84/100\n",
      "17/17 [==============================] - 1s 80ms/step - loss: 0.5154 - accuracy: 0.8287 - val_loss: 0.6434 - val_accuracy: 0.7500\n",
      "Epoch 85/100\n",
      "17/17 [==============================] - 1s 72ms/step - loss: 0.5111 - accuracy: 0.8296 - val_loss: 0.6398 - val_accuracy: 0.7500\n",
      "Epoch 86/100\n",
      "17/17 [==============================] - 1s 77ms/step - loss: 0.5068 - accuracy: 0.8315 - val_loss: 0.6368 - val_accuracy: 0.7500\n",
      "Epoch 87/100\n",
      "17/17 [==============================] - 1s 77ms/step - loss: 0.5024 - accuracy: 0.8306 - val_loss: 0.6334 - val_accuracy: 0.7500\n",
      "Epoch 88/100\n",
      "17/17 [==============================] - 1s 72ms/step - loss: 0.4983 - accuracy: 0.8343 - val_loss: 0.6301 - val_accuracy: 0.7500\n",
      "Epoch 89/100\n",
      "17/17 [==============================] - 1s 75ms/step - loss: 0.4941 - accuracy: 0.8343 - val_loss: 0.6271 - val_accuracy: 0.7500\n",
      "Epoch 90/100\n",
      "17/17 [==============================] - 1s 75ms/step - loss: 0.4897 - accuracy: 0.8361 - val_loss: 0.6242 - val_accuracy: 0.7500\n",
      "Epoch 91/100\n",
      "17/17 [==============================] - 1s 73ms/step - loss: 0.4856 - accuracy: 0.8380 - val_loss: 0.6214 - val_accuracy: 0.7500\n",
      "Epoch 92/100\n",
      "17/17 [==============================] - 1s 84ms/step - loss: 0.4816 - accuracy: 0.8398 - val_loss: 0.6184 - val_accuracy: 0.7500\n",
      "Epoch 93/100\n",
      "17/17 [==============================] - 1s 80ms/step - loss: 0.4776 - accuracy: 0.8417 - val_loss: 0.6155 - val_accuracy: 0.7583\n",
      "Epoch 94/100\n",
      "17/17 [==============================] - 1s 82ms/step - loss: 0.4738 - accuracy: 0.8407 - val_loss: 0.6124 - val_accuracy: 0.7583\n",
      "Epoch 95/100\n",
      "17/17 [==============================] - 2s 93ms/step - loss: 0.4700 - accuracy: 0.8444 - val_loss: 0.6094 - val_accuracy: 0.7583\n",
      "Epoch 96/100\n",
      "17/17 [==============================] - 1s 81ms/step - loss: 0.4660 - accuracy: 0.8463 - val_loss: 0.6066 - val_accuracy: 0.7583\n",
      "Epoch 97/100\n",
      "17/17 [==============================] - 1s 86ms/step - loss: 0.4629 - accuracy: 0.8481 - val_loss: 0.6042 - val_accuracy: 0.7583\n",
      "Epoch 98/100\n",
      "17/17 [==============================] - 1s 87ms/step - loss: 0.4590 - accuracy: 0.8491 - val_loss: 0.6001 - val_accuracy: 0.7583\n",
      "Epoch 99/100\n",
      "17/17 [==============================] - 2s 98ms/step - loss: 0.4549 - accuracy: 0.8509 - val_loss: 0.5974 - val_accuracy: 0.7667\n",
      "Epoch 100/100\n",
      "17/17 [==============================] - 2s 116ms/step - loss: 0.4517 - accuracy: 0.8537 - val_loss: 0.5956 - val_accuracy: 0.7750\n"
     ]
    }
   ],
   "source": [
    "train_dataset = tf.data.Dataset.from_tensor_slices((X_train, Y_train)).batch(64)\n",
    "test_dataset = tf.data.Dataset.from_tensor_slices((X_test, Y_test)).batch(64)\n",
    "history = conv_model.fit(train_dataset, epochs=100, validation_data=test_dataset)"
   ]
  },
  {
   "cell_type": "markdown",
   "id": "482dd007",
   "metadata": {},
   "source": [
    "**Display the loss and accuracy. important point: the system evaluates the system after each epoch and stores the result in a dictionary. the use of \"loss and accuracy\" for training data and \"val_loss and val_accuracy\" for test data.**"
   ]
  },
  {
   "cell_type": "code",
   "execution_count": 83,
   "id": "860fd5ce",
   "metadata": {},
   "outputs": [
    {
     "data": {
      "text/plain": [
       "dict"
      ]
     },
     "execution_count": 83,
     "metadata": {},
     "output_type": "execute_result"
    }
   ],
   "source": [
    "type(history.history)"
   ]
  },
  {
   "cell_type": "code",
   "execution_count": 85,
   "id": "d7ff7b4d",
   "metadata": {},
   "outputs": [
    {
     "data": {
      "text/html": [
       "<div>\n",
       "<style scoped>\n",
       "    .dataframe tbody tr th:only-of-type {\n",
       "        vertical-align: middle;\n",
       "    }\n",
       "\n",
       "    .dataframe tbody tr th {\n",
       "        vertical-align: top;\n",
       "    }\n",
       "\n",
       "    .dataframe thead th {\n",
       "        text-align: right;\n",
       "    }\n",
       "</style>\n",
       "<table border=\"1\" class=\"dataframe\">\n",
       "  <thead>\n",
       "    <tr style=\"text-align: right;\">\n",
       "      <th></th>\n",
       "      <th>loss</th>\n",
       "      <th>accuracy</th>\n",
       "      <th>val_loss</th>\n",
       "      <th>val_accuracy</th>\n",
       "    </tr>\n",
       "  </thead>\n",
       "  <tbody>\n",
       "    <tr>\n",
       "      <th>0</th>\n",
       "      <td>1.732542</td>\n",
       "      <td>0.408333</td>\n",
       "      <td>1.722394</td>\n",
       "      <td>0.458333</td>\n",
       "    </tr>\n",
       "    <tr>\n",
       "      <th>1</th>\n",
       "      <td>1.716273</td>\n",
       "      <td>0.421296</td>\n",
       "      <td>1.705102</td>\n",
       "      <td>0.483333</td>\n",
       "    </tr>\n",
       "    <tr>\n",
       "      <th>2</th>\n",
       "      <td>1.696604</td>\n",
       "      <td>0.456481</td>\n",
       "      <td>1.686099</td>\n",
       "      <td>0.458333</td>\n",
       "    </tr>\n",
       "    <tr>\n",
       "      <th>3</th>\n",
       "      <td>1.672872</td>\n",
       "      <td>0.474074</td>\n",
       "      <td>1.660258</td>\n",
       "      <td>0.466667</td>\n",
       "    </tr>\n",
       "    <tr>\n",
       "      <th>4</th>\n",
       "      <td>1.645373</td>\n",
       "      <td>0.480556</td>\n",
       "      <td>1.635240</td>\n",
       "      <td>0.450000</td>\n",
       "    </tr>\n",
       "    <tr>\n",
       "      <th>...</th>\n",
       "      <td>...</td>\n",
       "      <td>...</td>\n",
       "      <td>...</td>\n",
       "      <td>...</td>\n",
       "    </tr>\n",
       "    <tr>\n",
       "      <th>95</th>\n",
       "      <td>0.465953</td>\n",
       "      <td>0.846296</td>\n",
       "      <td>0.606641</td>\n",
       "      <td>0.758333</td>\n",
       "    </tr>\n",
       "    <tr>\n",
       "      <th>96</th>\n",
       "      <td>0.462853</td>\n",
       "      <td>0.848148</td>\n",
       "      <td>0.604231</td>\n",
       "      <td>0.758333</td>\n",
       "    </tr>\n",
       "    <tr>\n",
       "      <th>97</th>\n",
       "      <td>0.458953</td>\n",
       "      <td>0.849074</td>\n",
       "      <td>0.600117</td>\n",
       "      <td>0.758333</td>\n",
       "    </tr>\n",
       "    <tr>\n",
       "      <th>98</th>\n",
       "      <td>0.454938</td>\n",
       "      <td>0.850926</td>\n",
       "      <td>0.597423</td>\n",
       "      <td>0.766667</td>\n",
       "    </tr>\n",
       "    <tr>\n",
       "      <th>99</th>\n",
       "      <td>0.451712</td>\n",
       "      <td>0.853704</td>\n",
       "      <td>0.595648</td>\n",
       "      <td>0.775000</td>\n",
       "    </tr>\n",
       "  </tbody>\n",
       "</table>\n",
       "<p>100 rows × 4 columns</p>\n",
       "</div>"
      ],
      "text/plain": [
       "        loss  accuracy  val_loss  val_accuracy\n",
       "0   1.732542  0.408333  1.722394      0.458333\n",
       "1   1.716273  0.421296  1.705102      0.483333\n",
       "2   1.696604  0.456481  1.686099      0.458333\n",
       "3   1.672872  0.474074  1.660258      0.466667\n",
       "4   1.645373  0.480556  1.635240      0.450000\n",
       "..       ...       ...       ...           ...\n",
       "95  0.465953  0.846296  0.606641      0.758333\n",
       "96  0.462853  0.848148  0.604231      0.758333\n",
       "97  0.458953  0.849074  0.600117      0.758333\n",
       "98  0.454938  0.850926  0.597423      0.766667\n",
       "99  0.451712  0.853704  0.595648      0.775000\n",
       "\n",
       "[100 rows x 4 columns]"
      ]
     },
     "execution_count": 85,
     "metadata": {},
     "output_type": "execute_result"
    }
   ],
   "source": [
    "df_loss_acc = pd.DataFrame(history.history)\n",
    "df_loss_acc"
   ]
  },
  {
   "cell_type": "code",
   "execution_count": 97,
   "id": "0b61eabf",
   "metadata": {},
   "outputs": [
    {
     "data": {
      "text/plain": [
       "[Text(0.5, 0, 'Epoch'), Text(0, 0.5, 'Loss')]"
      ]
     },
     "execution_count": 97,
     "metadata": {},
     "output_type": "execute_result"
    },
    {
     "data": {
      "image/png": "[encoded data removed]",
      "text/plain": [
       "<Figure size 600x400 with 1 Axes>"
      ]
     },
     "metadata": {},
     "output_type": "display_data"
    }
   ],
   "source": [
    "# select the loss(training) and val_loss\n",
    "df_loss= df_loss_acc[['loss','val_loss']] \n",
    "# df_loss.rename(columns={'loss':'train','val_loss':'validation'},inplace=True)\n",
    "df_loss.plot(title='Model loss',figsize=(6,4)).set(xlabel='Epoch',ylabel='Loss')\n",
    "\n",
    "# loss -> training, val_loss -> test"
   ]
  },
  {
   "cell_type": "code",
   "execution_count": 99,
   "id": "cc36069b",
   "metadata": {},
   "outputs": [
    {
     "data": {
      "text/plain": [
       "[Text(0.5, 0, 'Epoch'), Text(0, 0.5, 'Accuracy')]"
      ]
     },
     "execution_count": 99,
     "metadata": {},
     "output_type": "execute_result"
    },
    {
     "data": {
      "image/png": "[encoded data removed]",
      "text/plain": [
       "<Figure size 600x400 with 1 Axes>"
      ]
     },
     "metadata": {},
     "output_type": "display_data"
    }
   ],
   "source": [
    "df_acc= df_loss_acc[['accuracy','val_accuracy']]\n",
    "df_acc.plot(title='Model Accuracy',figsize=(6,4)).set(xlabel='Epoch',ylabel='Accuracy')"
   ]
  },
  {
   "cell_type": "markdown",
   "id": "109e288e",
   "metadata": {},
   "source": [
    "## 4. Testing "
   ]
  },
  {
   "cell_type": "code",
   "execution_count": 181,
   "id": "67939a6b",
   "metadata": {},
   "outputs": [
    {
     "name": "stdout",
     "output_type": "stream",
     "text": [
      "1/1 [==============================] - 0s 31ms/step\n",
      "The number of this image is 4\n"
     ]
    },
    {
     "data": {
      "image/png": "[encoded data removed]",
      "text/plain": [
       "<Figure size 640x480 with 1 Axes>"
      ]
     },
     "metadata": {},
     "output_type": "display_data"
    }
   ],
   "source": [
    "index = random.randint(0,X_test.shape[0])\n",
    "\n",
    "plt.imshow(X_test_orig[index]) #display sample training image\n",
    "# plt.show()\n",
    "# print(X_test[0:1].shape)\n",
    "which_digit = conv_model.predict(X_test[index:index+1])\n",
    "\n",
    "number = np.where(np.squeeze(which_digit)>0.5)[0][0]\n",
    "\n",
    "print(\"The number of this image is\", number)"
   ]
  },
  {
   "cell_type": "code",
   "execution_count": null,
   "id": "b44b787b",
   "metadata": {},
   "outputs": [],
   "source": []
  }
 ],
 "metadata": {
  "kernelspec": {
   "display_name": "Python 3 (ipykernel)",
   "language": "python",
   "name": "python3"
  },
  "language_info": {
   "codemirror_mode": {
    "name": "ipython",
    "version": 3
   },
   "file_extension": ".py",
   "mimetype": "text/x-python",
   "name": "python",
   "nbconvert_exporter": "python",
   "pygments_lexer": "ipython3",
   "version": "3.9.13"
  }
 },
 "nbformat": 4,
 "nbformat_minor": 5
}
